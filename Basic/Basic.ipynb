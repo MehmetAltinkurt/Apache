{
 "cells": [
  {
   "cell_type": "code",
   "execution_count": 3,
   "id": "f6448040",
   "metadata": {},
   "outputs": [],
   "source": [
    "from pyspark.sql import SparkSession"
   ]
  },
  {
   "cell_type": "code",
   "execution_count": 4,
   "id": "7d6c50fc",
   "metadata": {},
   "outputs": [],
   "source": [
    "spark=(SparkSession\n",
    "       .builder\n",
    "       .appName(\"exampleApp\")\n",
    "       .getOrCreate())"
   ]
  },
  {
   "cell_type": "code",
   "execution_count": 6,
   "id": "8bd582a6",
   "metadata": {},
   "outputs": [],
   "source": [
    "csv_file=\"kc_house_data.csv\"\n",
    "\n",
    "df=(spark.read.format(\"csv\")\n",
    "    .option(\"inferSchema\",\"true\")\n",
    "    .option(\"header\",\"true\")\n",
    "    .load(csv_file))\n"
   ]
  },
  {
   "cell_type": "code",
   "execution_count": 7,
   "id": "0cc78fb3",
   "metadata": {},
   "outputs": [
    {
     "data": {
      "text/plain": [
       "[Row(id=7129300520, date='10/13/2014', price=221900.0, bedrooms=3, bathrooms=1.0, sqft_living=1180, sqft_lot=5650, floors=1.0, waterfront=0, view=0, condition=3, grade=7, sqft_above=1180, sqft_basement=0, yr_built=1955, yr_renovated=0, zipcode=98178, lat=47.5112, long=-122.257, sqft_living15=1340, sqft_lot15=5650),\n",
       " Row(id=6414100192, date='12/9/2014', price=538000.0, bedrooms=3, bathrooms=2.25, sqft_living=2570, sqft_lot=7242, floors=2.0, waterfront=0, view=0, condition=3, grade=7, sqft_above=2170, sqft_basement=400, yr_built=1951, yr_renovated=1991, zipcode=98125, lat=47.721, long=-122.319, sqft_living15=1690, sqft_lot15=7639),\n",
       " Row(id=5631500400, date='2/25/2015', price=180000.0, bedrooms=2, bathrooms=1.0, sqft_living=770, sqft_lot=10000, floors=1.0, waterfront=0, view=0, condition=3, grade=6, sqft_above=770, sqft_basement=0, yr_built=1933, yr_renovated=0, zipcode=98028, lat=47.7379, long=-122.233, sqft_living15=2720, sqft_lot15=8062),\n",
       " Row(id=2487200875, date='12/9/2014', price=604000.0, bedrooms=4, bathrooms=3.0, sqft_living=1960, sqft_lot=5000, floors=1.0, waterfront=0, view=0, condition=5, grade=7, sqft_above=1050, sqft_basement=910, yr_built=1965, yr_renovated=0, zipcode=98136, lat=47.5208, long=-122.393, sqft_living15=1360, sqft_lot15=5000),\n",
       " Row(id=1954400510, date='2/18/2015', price=510000.0, bedrooms=3, bathrooms=2.0, sqft_living=1680, sqft_lot=8080, floors=1.0, waterfront=0, view=0, condition=3, grade=8, sqft_above=1680, sqft_basement=0, yr_built=1987, yr_renovated=0, zipcode=98074, lat=47.6168, long=-122.045, sqft_living15=1800, sqft_lot15=7503)]"
      ]
     },
     "execution_count": 7,
     "metadata": {},
     "output_type": "execute_result"
    }
   ],
   "source": [
    "df.head(5)"
   ]
  },
  {
   "cell_type": "code",
   "execution_count": 7,
   "id": "4b3d8a7d",
   "metadata": {},
   "outputs": [],
   "source": [
    "df.createOrReplaceTempView(\"tempKcHousePriceview\")"
   ]
  },
  {
   "cell_type": "code",
   "execution_count": 10,
   "id": "0d45976b",
   "metadata": {},
   "outputs": [
    {
     "name": "stdout",
     "output_type": "stream",
     "text": [
      "+----------+----------+---------+--------+---------+-----------+--------+------+----------+----+---------+-----+----------+-------------+--------+------------+-------+-------+--------+-------------+----------+\n",
      "|        id|      date|    price|bedrooms|bathrooms|sqft_living|sqft_lot|floors|waterfront|view|condition|grade|sqft_above|sqft_basement|yr_built|yr_renovated|zipcode|    lat|    long|sqft_living15|sqft_lot15|\n",
      "+----------+----------+---------+--------+---------+-----------+--------+------+----------+----+---------+-----+----------+-------------+--------+------------+-------+-------+--------+-------------+----------+\n",
      "|7129300520|10/13/2014| 221900.0|       3|      1.0|       1180|    5650|   1.0|         0|   0|        3|    7|      1180|            0|    1955|           0|  98178|47.5112|-122.257|         1340|      5650|\n",
      "|6414100192| 12/9/2014| 538000.0|       3|     2.25|       2570|    7242|   2.0|         0|   0|        3|    7|      2170|          400|    1951|        1991|  98125| 47.721|-122.319|         1690|      7639|\n",
      "|5631500400| 2/25/2015| 180000.0|       2|      1.0|        770|   10000|   1.0|         0|   0|        3|    6|       770|            0|    1933|           0|  98028|47.7379|-122.233|         2720|      8062|\n",
      "|2487200875| 12/9/2014| 604000.0|       4|      3.0|       1960|    5000|   1.0|         0|   0|        5|    7|      1050|          910|    1965|           0|  98136|47.5208|-122.393|         1360|      5000|\n",
      "|1954400510| 2/18/2015| 510000.0|       3|      2.0|       1680|    8080|   1.0|         0|   0|        3|    8|      1680|            0|    1987|           0|  98074|47.6168|-122.045|         1800|      7503|\n",
      "|7237550310| 5/12/2014|1230000.0|       4|      4.5|       5420|  101930|   1.0|         0|   0|        3|   11|      3890|         1530|    2001|           0|  98053|47.6561|-122.005|         4760|    101930|\n",
      "|1321400060| 6/27/2014| 257500.0|       3|     2.25|       1715|    6819|   2.0|         0|   0|        3|    7|      1715|            0|    1995|           0|  98003|47.3097|-122.327|         2238|      6819|\n",
      "|2008000270| 1/15/2015| 291850.0|       3|      1.5|       1060|    9711|   1.0|         0|   0|        3|    7|      1060|            0|    1963|           0|  98198|47.4095|-122.315|         1650|      9711|\n",
      "|2414600126| 4/15/2015| 229500.0|       3|      1.0|       1780|    7470|   1.0|         0|   0|        3|    7|      1050|          730|    1960|           0|  98146|47.5123|-122.337|         1780|      8113|\n",
      "|3793500160| 3/12/2015| 323000.0|       3|      2.5|       1890|    6560|   2.0|         0|   0|        3|    7|      1890|            0|    2003|           0|  98038|47.3684|-122.031|         2390|      7570|\n",
      "+----------+----------+---------+--------+---------+-----------+--------+------+----------+----+---------+-----+----------+-------------+--------+------------+-------+-------+--------+-------------+----------+\n",
      "only showing top 10 rows\n",
      "\n"
     ]
    }
   ],
   "source": [
    "spark.sql(\"\"\"SELECT * FROM tempKcHousePriceview\"\"\").show(10)"
   ]
  },
  {
   "cell_type": "code",
   "execution_count": 12,
   "id": "43297a55",
   "metadata": {},
   "outputs": [
    {
     "name": "stdout",
     "output_type": "stream",
     "text": [
      "+--------+\n",
      "|count(1)|\n",
      "+--------+\n",
      "|   21597|\n",
      "+--------+\n",
      "\n"
     ]
    }
   ],
   "source": [
    "spark.sql(\"\"\"SELECT COUNT(*) FROM tempKcHousePriceview\"\"\").show()"
   ]
  },
  {
   "cell_type": "code",
   "execution_count": 8,
   "id": "8a709a97",
   "metadata": {},
   "outputs": [
    {
     "name": "stdout",
     "output_type": "stream",
     "text": [
      "+----------+----------+---------+--------+---------+-----------+--------+------+----------+----+---------+-----+----------+-------------+--------+------------+-------+-------+--------+-------------+----------+\n",
      "|        id|      date|    price|bedrooms|bathrooms|sqft_living|sqft_lot|floors|waterfront|view|condition|grade|sqft_above|sqft_basement|yr_built|yr_renovated|zipcode|    lat|    long|sqft_living15|sqft_lot15|\n",
      "+----------+----------+---------+--------+---------+-----------+--------+------+----------+----+---------+-----+----------+-------------+--------+------------+-------+-------+--------+-------------+----------+\n",
      "|1247600105|10/20/2014|5110000.0|       5|     5.25|       8010|   45517|   2.0|         1|   4|        3|   12|      5990|         2020|    1999|           0|  98033|47.6767|-122.211|         3430|     26788|\n",
      "|7558700030| 4/13/2015|5300000.0|       6|      6.0|       7390|   24829|   2.0|         1|   4|        4|   12|      5000|         2390|    1991|           0|  98040|47.5631| -122.21|         4320|     24619|\n",
      "|8907500070| 4/13/2015|5350000.0|       5|      5.0|       8000|   23985|   2.0|         0|   4|        3|   12|      6720|         1280|    2009|           0|  98004|47.6232| -122.22|         4600|     21750|\n",
      "|9808700762| 6/11/2014|7060000.0|       5|      4.5|      10040|   37325|   2.0|         1|   2|        3|   11|      7680|         2360|    1940|        2001|  98004|  47.65|-122.214|         3930|     25449|\n",
      "|2470100110|  8/4/2014|5570000.0|       5|     5.75|       9200|   35069|   2.0|         0|   0|        3|   13|      6200|         3000|    2001|           0|  98039|47.6289|-122.233|         3560|     24345|\n",
      "|6762700020|10/13/2014|7700000.0|       6|      8.0|      12050|   27600|   2.5|         0|   3|        4|   13|      8570|         3480|    1910|        1987|  98102|47.6298|-122.323|         3940|      8800|\n",
      "|9208900037| 9/19/2014|6890000.0|       6|     7.75|       9890|   31374|   2.0|         0|   4|        3|   13|      8860|         1030|    2001|           0|  98039|47.6305| -122.24|         4540|     42730|\n",
      "+----------+----------+---------+--------+---------+-----------+--------+------+----------+----+---------+-----+----------+-------------+--------+------------+-------+-------+--------+-------------+----------+\n",
      "\n"
     ]
    }
   ],
   "source": [
    "spark.sql(\"\"\"\n",
    "SELECT * \n",
    "FROM tempKcHousePriceview\n",
    "WHERE price>5000000\n",
    "\"\"\").show(100)"
   ]
  },
  {
   "cell_type": "code",
   "execution_count": 11,
   "id": "b1055a98",
   "metadata": {},
   "outputs": [
    {
     "name": "stdout",
     "output_type": "stream",
     "text": [
      "+----------+---------+\n",
      "|      date|    price|\n",
      "+----------+---------+\n",
      "|10/13/2014|7700000.0|\n",
      "| 6/11/2014|7060000.0|\n",
      "| 9/19/2014|6890000.0|\n",
      "|  8/4/2014|5570000.0|\n",
      "| 4/13/2015|5350000.0|\n",
      "| 4/13/2015|5300000.0|\n",
      "|10/20/2014|5110000.0|\n",
      "+----------+---------+\n",
      "\n"
     ]
    }
   ],
   "source": [
    "from pyspark.sql.functions import col, desc\n",
    "(df.select(\"date\",\"price\")\n",
    " .where(col(\"price\")>5000000)\n",
    " .orderBy(desc(\"price\"))).show()"
   ]
  },
  {
   "cell_type": "code",
   "execution_count": 12,
   "id": "214cc1f0",
   "metadata": {},
   "outputs": [
    {
     "name": "stdout",
     "output_type": "stream",
     "text": [
      "+----------+---------+\n",
      "|      date|    price|\n",
      "+----------+---------+\n",
      "|10/13/2014|7700000.0|\n",
      "| 6/11/2014|7060000.0|\n",
      "| 9/19/2014|6890000.0|\n",
      "|  8/4/2014|5570000.0|\n",
      "| 4/13/2015|5350000.0|\n",
      "| 4/13/2015|5300000.0|\n",
      "|10/20/2014|5110000.0|\n",
      "+----------+---------+\n",
      "\n"
     ]
    }
   ],
   "source": [
    "(df.select(\"date\",\"price\")\n",
    " .where(\"price>5000000\")\n",
    " .orderBy(\"price\",ascending=False)).show()"
   ]
  },
  {
   "cell_type": "code",
   "execution_count": null,
   "id": "a01e4c44",
   "metadata": {},
   "outputs": [],
   "source": []
  }
 ],
 "metadata": {
  "kernelspec": {
   "display_name": "base",
   "language": "python",
   "name": "python3"
  },
  "language_info": {
   "codemirror_mode": {
    "name": "ipython",
    "version": 3
   },
   "file_extension": ".py",
   "mimetype": "text/x-python",
   "name": "python",
   "nbconvert_exporter": "python",
   "pygments_lexer": "ipython3",
   "version": "3.9.16"
  }
 },
 "nbformat": 4,
 "nbformat_minor": 5
}
